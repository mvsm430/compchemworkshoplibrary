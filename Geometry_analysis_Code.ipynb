{
 "cells": [
  {
   "cell_type": "code",
   "execution_count": null,
   "id": "d39d8608",
   "metadata": {},
   "outputs": [],
   "source": [
    "import os\n",
    "import numpy\n",
    "def calculate_distance(coords1,coords2):\n",
    "    xdist = coords1[0]-coords2[0]\n",
    "    ydist = coords1[1]-coords2[1]\n",
    "    zdist = coords1[2]- coords2[2]\n",
    "    distance = numpy.sqrt(xdist**2+ydist**2+zdist**2)\n",
    "    return distance\n",
    "def bond_check(distance, dmin=0, dmax=1.5):\n",
    "    \"\"\"\n",
    "    This function checks a distance and determines if it is a bond.\n",
    "    Inputs:distance, minimum cutoff value for the bond, maximum cutoff values forthe bond. \n",
    "    Default for minimum is 0. Default for the Maximum is 1.5\n",
    "    Returns True of False for the bond.\n",
    "    \"\"\"\n",
    "    if distance>dmin and distance<dmax:\n",
    "        return True\n",
    "    else:\n",
    "        return False\n",
    "def open_xyz(filename):\n",
    "    \"\"\"\n",
    "    This fuction process an xyz file.\n",
    "    Input: filename or filepath\n",
    "    Output: list of symbols and array of coordinates\n",
    "    \"\"\"\n",
    "    xyz_file = numpy.genfromtxt(fname=filename, dtype='unicode',skip_header=2)\n",
    "    symbols = xyz_file[:,0]\n",
    "    coordinates = xyz_file[:,1:]\n",
    "    coordinates = coordinates.astype(float)\n",
    "    return(symbols,coordinates)\n",
    "    \n",
    "file_location = input('Enter file path for the xyz file to analyze:')\n",
    "symbols,coordinates = open_xyz(file_location)\n",
    "num_atoms=len(symbols)\n",
    "for num1 in range(0,num_atoms):\n",
    "    for num2 in range (0,num_atoms):\n",
    "        if num1<num2:\n",
    "            distance=calculate_distance(coordinates[num1],coordinates[num2])\n",
    "            if bond_check(distance)is True:\n",
    "                print(F'{symbols[num1]} to {symbols[num2]} : {distance:.3f}')"
   ]
  },
  {
   "cell_type": "code",
   "execution_count": null,
   "id": "a4809edd",
   "metadata": {},
   "outputs": [],
   "source": []
  }
 ],
 "metadata": {
  "kernelspec": {
   "display_name": "Python 3 (ipykernel)",
   "language": "python",
   "name": "python3"
  },
  "language_info": {
   "codemirror_mode": {
    "name": "ipython",
    "version": 3
   },
   "file_extension": ".py",
   "mimetype": "text/x-python",
   "name": "python",
   "nbconvert_exporter": "python",
   "pygments_lexer": "ipython3",
   "version": "3.9.7"
  }
 },
 "nbformat": 4,
 "nbformat_minor": 5
}
