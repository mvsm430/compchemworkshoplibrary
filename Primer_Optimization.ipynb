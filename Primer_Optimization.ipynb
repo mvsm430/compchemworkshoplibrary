{
 "cells": [
  {
   "cell_type": "markdown",
   "id": "21113074",
   "metadata": {},
   "source": [
    "# Optimization"
   ]
  },
  {
   "cell_type": "code",
   "execution_count": 22,
   "id": "b1ba3be5",
   "metadata": {},
   "outputs": [],
   "source": [
    "import nglview as nv\n",
    "import psi4\n",
    "import numpy as np\n",
    "import qcelemental as qc\n",
    "\n",
    "psi4.core.be_quiet()"
   ]
  },
  {
   "cell_type": "code",
   "execution_count": 23,
   "id": "3fe290ac",
   "metadata": {},
   "outputs": [
    {
     "name": "stdout",
     "output_type": "stream",
     "text": [
      "\tSearching PubChem database for water (single best match returned)\n",
      "\tFound 1 result(s)\n"
     ]
    }
   ],
   "source": [
    "Water = psi4.geometry (\"pubchem:water\")"
   ]
  },
  {
   "cell_type": "code",
   "execution_count": 24,
   "id": "26154810",
   "metadata": {},
   "outputs": [
    {
     "ename": "NameError",
     "evalue": "name 'water' is not defined",
     "output_type": "error",
     "traceback": [
      "\u001b[0;31m---------------------------------------------------------------------------\u001b[0m",
      "\u001b[0;31mNameError\u001b[0m                                 Traceback (most recent call last)",
      "\u001b[0;32m/tmp/ipykernel_99/783126288.py\u001b[0m in \u001b[0;36m<module>\u001b[0;34m\u001b[0m\n\u001b[0;32m----> 1\u001b[0;31m \u001b[0mtype\u001b[0m \u001b[0;34m(\u001b[0m\u001b[0mwater\u001b[0m\u001b[0;34m)\u001b[0m\u001b[0;34m\u001b[0m\u001b[0;34m\u001b[0m\u001b[0m\n\u001b[0m",
      "\u001b[0;31mNameError\u001b[0m: name 'water' is not defined"
     ]
    }
   ],
   "source": [
    "type (water)"
   ]
  },
  {
   "cell_type": "code",
   "execution_count": 25,
   "id": "14d58319",
   "metadata": {},
   "outputs": [
    {
     "ename": "NameError",
     "evalue": "name 'water' is not defined",
     "output_type": "error",
     "traceback": [
      "\u001b[0;31m---------------------------------------------------------------------------\u001b[0m",
      "\u001b[0;31mNameError\u001b[0m                                 Traceback (most recent call last)",
      "\u001b[0;32m/tmp/ipykernel_99/763738491.py\u001b[0m in \u001b[0;36m<module>\u001b[0;34m\u001b[0m\n\u001b[0;32m----> 1\u001b[0;31m \u001b[0mwater\u001b[0m\u001b[0;34m.\u001b[0m\u001b[0mgeometry\u001b[0m\u001b[0;34m(\u001b[0m\u001b[0;34m)\u001b[0m\u001b[0;34m.\u001b[0m\u001b[0mnp\u001b[0m\u001b[0;34m\u001b[0m\u001b[0;34m\u001b[0m\u001b[0m\n\u001b[0m",
      "\u001b[0;31mNameError\u001b[0m: name 'water' is not defined"
     ]
    }
   ],
   "source": [
    "water.geometry().np"
   ]
  },
  {
   "cell_type": "code",
   "execution_count": 26,
   "id": "55e372eb",
   "metadata": {},
   "outputs": [],
   "source": [
    "def molshow(psi4geo):\n",
    "    \"\"\"\n",
    "    Generates a visualization for psi4.core.Molecule\n",
    "    \"\"\"\n",
    "    geo_view = nv.Psi4Structure(water)\n",
    "    geo_plot = nv.NGLWidget(geo_view)\n",
    "    \n",
    "    return(geo_plot)"
   ]
  },
  {
   "cell_type": "code",
   "execution_count": 18,
   "id": "2a22515c",
   "metadata": {},
   "outputs": [
    {
     "data": {
      "application/vnd.jupyter.widget-view+json": {
       "model_id": "5333530183a1481eb90123bf86aa8025",
       "version_major": 2,
       "version_minor": 0
      },
      "text/plain": [
       "NGLWidget()"
      ]
     },
     "metadata": {},
     "output_type": "display_data"
    }
   ],
   "source": [
    "molshow(water)"
   ]
  },
  {
   "cell_type": "code",
   "execution_count": 7,
   "id": "cdfcd281",
   "metadata": {},
   "outputs": [
    {
     "name": "stdout",
     "output_type": "stream",
     "text": [
      "Non Optimized Geometry -150.59781375677204\n"
     ]
    }
   ],
   "source": [
    "#Lets do an Optimization.\n",
    "\n",
    "formal_str = \"\"\"\n",
    "noreorient\n",
    "H 0.0 0.92 1.17\n",
    "H 0.0 -0.92 1.17\n",
    "O 0.0 0.0 0.60\n",
    "O 0.0 0.0 -0.60\n",
    "symmetry c1\n",
    "\"\"\"\n",
    "formal_psi4 = psi4.geometry (formal_str)\n",
    "e = psi4.energy(\"HF/6-31G*\", mol=formal_psi4)\n",
    "print(f\"Non Optimized Geometry {e}\")"
   ]
  },
  {
   "cell_type": "code",
   "execution_count": 8,
   "id": "6f03e3bc",
   "metadata": {},
   "outputs": [],
   "source": [
    "#Write output file in optimization.dat\n",
    "psi4.core.set_output_file(\"data/optimization.dat\")"
   ]
  },
  {
   "cell_type": "code",
   "execution_count": 9,
   "id": "bbdeff8a",
   "metadata": {},
   "outputs": [
    {
     "name": "stdout",
     "output_type": "stream",
     "text": [
      "Optimizer: Optimization complete!\n"
     ]
    }
   ],
   "source": [
    "e_opt, history = psi4.optimize ('HF/6-31G*' , molecule = formal_psi4, return_history = True) "
   ]
  },
  {
   "cell_type": "code",
   "execution_count": 10,
   "id": "9824f382",
   "metadata": {},
   "outputs": [
    {
     "data": {
      "text/plain": [
       "array([[ 0.00000000e+00,  1.51303326e+00,  2.34999851e+00],\n",
       "       [ 0.00000000e+00, -1.51303326e+00,  2.34999851e+00],\n",
       "       [ 0.00000000e+00, -1.38113507e-11,  1.39711888e+00],\n",
       "       [ 0.00000000e+00, -3.71486127e-12, -1.69326142e+00]])"
      ]
     },
     "execution_count": 10,
     "metadata": {},
     "output_type": "execute_result"
    }
   ],
   "source": [
    "formal_psi4.geometry().np"
   ]
  },
  {
   "cell_type": "code",
   "execution_count": 11,
   "id": "4d9a427d",
   "metadata": {},
   "outputs": [
    {
     "data": {
      "text/plain": [
       "{'energy': [-150.59781375693896,\n",
       "  -150.663331077826,\n",
       "  -150.67860225821534,\n",
       "  -150.68404670526763,\n",
       "  -150.68711669360923,\n",
       "  -150.68834823632235,\n",
       "  -150.68871630737215,\n",
       "  -150.68880288455185,\n",
       "  -150.68881452501066,\n",
       "  -150.6888152358362],\n",
       " 'gradient': [<psi4.core.Matrix at 0x7fc193b699f0>,\n",
       "  <psi4.core.Matrix at 0x7fc193b66bd0>,\n",
       "  <psi4.core.Matrix at 0x7fc193b5e180>,\n",
       "  <psi4.core.Matrix at 0x7fc193b6f720>,\n",
       "  <psi4.core.Matrix at 0x7fc193b6fe00>,\n",
       "  <psi4.core.Matrix at 0x7fc193b6f090>,\n",
       "  <psi4.core.Matrix at 0x7fc193b6f040>,\n",
       "  <psi4.core.Matrix at 0x7fc193b6fdb0>,\n",
       "  <psi4.core.Matrix at 0x7fc193b6f1d0>,\n",
       "  <psi4.core.Matrix at 0x7fc193c4d360>],\n",
       " 'coordinates': [<psi4.core.Matrix at 0x7fc193b69310>,\n",
       "  <psi4.core.Matrix at 0x7fc1ac19d360>,\n",
       "  <psi4.core.Matrix at 0x7fc193b5e720>,\n",
       "  <psi4.core.Matrix at 0x7fc193b6fe50>,\n",
       "  <psi4.core.Matrix at 0x7fc193b6fea0>,\n",
       "  <psi4.core.Matrix at 0x7fc193b6f7c0>,\n",
       "  <psi4.core.Matrix at 0x7fc193b6ff40>,\n",
       "  <psi4.core.Matrix at 0x7fc193b6ff90>,\n",
       "  <psi4.core.Matrix at 0x7fc193b6fbd0>,\n",
       "  <psi4.core.Matrix at 0x7fc193d2d680>]}"
      ]
     },
     "execution_count": 11,
     "metadata": {},
     "output_type": "execute_result"
    }
   ],
   "source": [
    "history"
   ]
  },
  {
   "cell_type": "code",
   "execution_count": 12,
   "id": "26dbcb77",
   "metadata": {},
   "outputs": [
    {
     "data": {
      "text/plain": [
       "[-150.59781375693896,\n",
       " -150.663331077826,\n",
       " -150.67860225821534,\n",
       " -150.68404670526763,\n",
       " -150.68711669360923,\n",
       " -150.68834823632235,\n",
       " -150.68871630737215,\n",
       " -150.68880288455185,\n",
       " -150.68881452501066,\n",
       " -150.6888152358362]"
      ]
     },
     "execution_count": 12,
     "metadata": {},
     "output_type": "execute_result"
    }
   ],
   "source": [
    "history[\"energy\"]"
   ]
  },
  {
   "cell_type": "code",
   "execution_count": 13,
   "id": "a2ed2e0a",
   "metadata": {},
   "outputs": [
    {
     "data": {
      "text/plain": [
       "[<matplotlib.lines.Line2D at 0x7fc18964d9d0>]"
      ]
     },
     "execution_count": 13,
     "metadata": {},
     "output_type": "execute_result"
    },
    {
     "data": {
      "image/png": "[encoded data removed]",
      "text/plain": [
       "<Figure size 432x288 with 1 Axes>"
      ]
     },
     "metadata": {
      "needs_background": "light"
     },
     "output_type": "display_data"
    }
   ],
   "source": [
    "import matplotlib.pyplot as plt\n",
    "plt.plot(history[\"energy\"])"
   ]
  },
  {
   "cell_type": "code",
   "execution_count": 19,
   "id": "d7a4dcf6",
   "metadata": {},
   "outputs": [
    {
     "name": "stdout",
     "output_type": "stream",
     "text": [
      "\tSearching PubChem database for CID 24813\n",
      "\tFound 1 result(s)\n"
     ]
    },
    {
     "data": {
      "application/vnd.jupyter.widget-view+json": {
       "model_id": "af6a462ed7e340a88e2c5d2ba54e52da",
       "version_major": 2,
       "version_minor": 0
      },
      "text/plain": [
       "NGLWidget()"
      ]
     },
     "metadata": {},
     "output_type": "display_data"
    }
   ],
   "source": [
    "POCL3 = psi4.geometry(\"pubchem:24813\")\n",
    "\n",
    "POCL3.geometry().np\n",
    "\n",
    "def molshow(psi4geo):\n",
    "    \"\"\"\n",
    "    Generates a visualization for psi4.core.Molecule\n",
    "    \"\"\"\n",
    "    geo_view = nv.Psi4Structure(POCL3)\n",
    "    geo_plot = nv.NGLWidget(geo_view)\n",
    "    \n",
    "    return(geo_plot)\n",
    "molshow(POCL3)"
   ]
  },
  {
   "cell_type": "code",
   "execution_count": null,
   "id": "b00c5df1",
   "metadata": {},
   "outputs": [],
   "source": []
  }
 ],
 "metadata": {
  "kernelspec": {
   "display_name": "Python 3 (ipykernel)",
   "language": "python",
   "name": "python3"
  },
  "language_info": {
   "codemirror_mode": {
    "name": "ipython",
    "version": 3
   },
   "file_extension": ".py",
   "mimetype": "text/x-python",
   "name": "python",
   "nbconvert_exporter": "python",
   "pygments_lexer": "ipython3",
   "version": "3.9.7"
  }
 },
 "nbformat": 4,
 "nbformat_minor": 5
}
