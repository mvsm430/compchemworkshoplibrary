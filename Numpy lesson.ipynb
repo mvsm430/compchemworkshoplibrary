{
 "cells": [
  {
   "cell_type": "markdown",
   "id": "69d80260",
   "metadata": {},
   "source": [
    "# NumPy Lesson\n",
    "This lesson will go over the difference between python lists and NumPy arrays.\n"
   ]
  },
  {
   "cell_type": "code",
   "execution_count": 1,
   "id": "d39d8608",
   "metadata": {},
   "outputs": [
    {
     "name": "stdout",
     "output_type": "stream",
     "text": [
      "Enter file path for the xyz file to analyze:data/water.xyz\n",
      "O to H1 : 0.969\n",
      "O to H2 : 0.969\n"
     ]
    }
   ],
   "source": [
    "import os\n",
    "import numpy\n",
    "def calculate_distance(coords1,coords2):\n",
    "    xdist = coords1[0]-coords2[0]\n",
    "    ydist = coords1[1]-coords2[1]\n",
    "    zdist = coords1[2]- coords2[2]\n",
    "    distance = numpy.sqrt(xdist**2+ydist**2+zdist**2)\n",
    "    return distance\n",
    "def bond_check(distance, dmin=0, dmax=1.5):\n",
    "    \"\"\"\n",
    "    This function checks a distance and determines if it is a bond.\n",
    "    Inputs:distance, minimum cutoff value for the bond, maximum cutoff values forthe bond. \n",
    "    Default for minimum is 0. Default for the Maximum is 1.5\n",
    "    Returns True of False for the bond.\n",
    "    \"\"\"\n",
    "    if distance>dmin and distance<dmax:\n",
    "        return True\n",
    "    else:\n",
    "        return False\n",
    "def open_xyz(filename):\n",
    "    \"\"\"\n",
    "    This fuction process an xyz file.\n",
    "    Input: filename or filepath\n",
    "    Output: list of symbols and array of coordinates\n",
    "    \"\"\"\n",
    "    xyz_file = numpy.genfromtxt(fname=filename, dtype='unicode',skip_header=2)\n",
    "    symbols = xyz_file[:,0]\n",
    "    coordinates = xyz_file[:,1:]\n",
    "    coordinates = coordinates.astype(float)\n",
    "    return(symbols,coordinates)\n",
    "    \n",
    "file_location = input('Enter file path for the xyz file to analyze:')\n",
    "symbols,coordinates = open_xyz(file_location)\n",
    "num_atoms=len(symbols)\n",
    "for num1 in range(0,num_atoms):\n",
    "    for num2 in range (0,num_atoms):\n",
    "        if num1<num2:\n",
    "            distance=calculate_distance(coordinates[num1],coordinates[num2])\n",
    "            if bond_check(distance)is True:\n",
    "                print(F'{symbols[num1]} to {symbols[num2]} : {distance:.3f}')\n",
    "#array[row,column]"
   ]
  },
  {
   "cell_type": "code",
   "execution_count": 2,
   "id": "a4809edd",
   "metadata": {},
   "outputs": [
    {
     "name": "stdout",
     "output_type": "stream",
     "text": [
      "[[ 0.       -0.007156  0.965491]\n",
      " [-0.        0.001486 -0.003471]\n",
      " [ 0.        0.931026  1.207929]]\n"
     ]
    }
   ],
   "source": [
    "print(coordinates)"
   ]
  },
  {
   "cell_type": "code",
   "execution_count": 16,
   "id": "644f1b01",
   "metadata": {},
   "outputs": [],
   "source": [
    "oxygen_coordinate = coordinates[0]"
   ]
  },
  {
   "cell_type": "code",
   "execution_count": 23,
   "id": "4365f956",
   "metadata": {},
   "outputs": [],
   "source": [
    "translation_vector = [0.1, -0.1, 0]"
   ]
  },
  {
   "cell_type": "code",
   "execution_count": 24,
   "id": "f812ce9d",
   "metadata": {},
   "outputs": [
    {
     "name": "stdout",
     "output_type": "stream",
     "text": [
      "[ 0.       -0.007156  0.965491]\n"
     ]
    }
   ],
   "source": [
    "print(oxygen_coordinate)"
   ]
  },
  {
   "cell_type": "code",
   "execution_count": 25,
   "id": "665edb1d",
   "metadata": {},
   "outputs": [],
   "source": [
    "new_coord = []\n",
    "for i in range(3):\n",
    "    update = oxygen_coordinate[i] +translation_vector[i]\n",
    "    new_coord.append(update)"
   ]
  },
  {
   "cell_type": "code",
   "execution_count": 26,
   "id": "4fb70851",
   "metadata": {},
   "outputs": [
    {
     "name": "stdout",
     "output_type": "stream",
     "text": [
      "[0.1, -0.107156, 0.965491]\n"
     ]
    }
   ],
   "source": [
    "print (new_coord)"
   ]
  },
  {
   "cell_type": "code",
   "execution_count": 27,
   "id": "fb12699e",
   "metadata": {},
   "outputs": [
    {
     "data": {
      "text/plain": [
       "numpy.ndarray"
      ]
     },
     "execution_count": 27,
     "metadata": {},
     "output_type": "execute_result"
    }
   ],
   "source": [
    "type(oxygen_coordinate)"
   ]
  },
  {
   "cell_type": "code",
   "execution_count": 31,
   "id": "24338133",
   "metadata": {},
   "outputs": [
    {
     "name": "stdout",
     "output_type": "stream",
     "text": [
      "[ 0.1      -0.107156  0.965491]\n"
     ]
    }
   ],
   "source": [
    "#NumPy arrays let us add vectors without for loops\n",
    "new_coord2 = oxygen_coordinate + translation_vector\n",
    "print (new_coord2)"
   ]
  },
  {
   "cell_type": "code",
   "execution_count": 32,
   "id": "2a38a01a",
   "metadata": {},
   "outputs": [
    {
     "data": {
      "text/plain": [
       "list"
      ]
     },
     "execution_count": 32,
     "metadata": {},
     "output_type": "execute_result"
    }
   ],
   "source": [
    "type(new_coord)"
   ]
  },
  {
   "cell_type": "code",
   "execution_count": 33,
   "id": "8a23290a",
   "metadata": {},
   "outputs": [
    {
     "data": {
      "text/plain": [
       "[0.1, -0.107156, 0.965491, 0.1, -0.1, 0]"
      ]
     },
     "execution_count": 33,
     "metadata": {},
     "output_type": "execute_result"
    }
   ],
   "source": [
    "new_coord + translation_vector"
   ]
  },
  {
   "cell_type": "markdown",
   "id": "d2c5ad4d",
   "metadata": {},
   "source": [
    "# Creating NumPy Arrays"
   ]
  },
  {
   "cell_type": "code",
   "execution_count": 36,
   "id": "b88231a9",
   "metadata": {},
   "outputs": [
    {
     "name": "stdout",
     "output_type": "stream",
     "text": [
      "[3 4 5]\n",
      "[2 3 0]\n"
     ]
    }
   ],
   "source": [
    "a1=numpy.array([2,1,0])\n",
    "a2=numpy.array([1,3,5])\n",
    "#What wiil this be?\n",
    "print (a1+a2)\n",
    "print (a1*a2)\n",
    "#adds each element together??"
   ]
  },
  {
   "cell_type": "code",
   "execution_count": 37,
   "id": "300a26ed",
   "metadata": {},
   "outputs": [],
   "source": [
    "# if we tried this with lists, our answers would be different\n",
    "a1=[2,1,0]\n",
    "a2=[1,3,5]\n",
    "#does not Happen"
   ]
  },
  {
   "cell_type": "code",
   "execution_count": 38,
   "id": "f85d0864",
   "metadata": {},
   "outputs": [],
   "source": [
    "new_water = coordinates + translation_vector"
   ]
  },
  {
   "cell_type": "code",
   "execution_count": 39,
   "id": "a7cc752d",
   "metadata": {},
   "outputs": [
    {
     "name": "stdout",
     "output_type": "stream",
     "text": [
      "[[ 0.1      -0.107156  0.965491]\n",
      " [ 0.1      -0.098514 -0.003471]\n",
      " [ 0.1       0.831026  1.207929]]\n"
     ]
    }
   ],
   "source": [
    "print(new_water)"
   ]
  },
  {
   "cell_type": "code",
   "execution_count": 40,
   "id": "47beaa7b",
   "metadata": {},
   "outputs": [
    {
     "data": {
      "text/plain": [
       "(3, 3)"
      ]
     },
     "execution_count": 40,
     "metadata": {},
     "output_type": "execute_result"
    }
   ],
   "source": [
    "coordinates.shape"
   ]
  },
  {
   "cell_type": "code",
   "execution_count": 42,
   "id": "7fc7073e",
   "metadata": {},
   "outputs": [
    {
     "data": {
      "text/plain": [
       "array([[False, False,  True],\n",
       "       [False,  True, False],\n",
       "       [False,  True,  True]])"
      ]
     },
     "execution_count": 42,
     "metadata": {},
     "output_type": "execute_result"
    }
   ],
   "source": [
    "#Find coordinates greater than 0 with NumPy\n",
    "coordinates>0"
   ]
  },
  {
   "cell_type": "code",
   "execution_count": 43,
   "id": "49e678d6",
   "metadata": {},
   "outputs": [
    {
     "data": {
      "text/plain": [
       "array([0.965491, 0.001486, 0.931026, 1.207929])"
      ]
     },
     "execution_count": 43,
     "metadata": {},
     "output_type": "execute_result"
    }
   ],
   "source": [
    "coordinates[coordinates>0]"
   ]
  },
  {
   "cell_type": "markdown",
   "id": "92f36fdf",
   "metadata": {},
   "source": [
    "# Array Axes"
   ]
  },
  {
   "cell_type": "code",
   "execution_count": 44,
   "id": "0c0c3f62",
   "metadata": {},
   "outputs": [
    {
     "name": "stdout",
     "output_type": "stream",
     "text": [
      "[[ 0.       -0.007156  0.965491]\n",
      " [-0.        0.001486 -0.003471]\n",
      " [ 0.        0.931026  1.207929]]\n"
     ]
    }
   ],
   "source": [
    "print(coordinates)"
   ]
  },
  {
   "cell_type": "code",
   "execution_count": 48,
   "id": "6e4a07d7",
   "metadata": {},
   "outputs": [
    {
     "data": {
      "text/plain": [
       "array([0.        , 0.308452  , 0.72331633])"
      ]
     },
     "execution_count": 48,
     "metadata": {},
     "output_type": "execute_result"
    }
   ],
   "source": [
    "coordinates.mean(axis=0)\n",
    "# 0 = each column\n",
    "# 1 = each row"
   ]
  },
  {
   "cell_type": "code",
   "execution_count": null,
   "id": "5e374e43",
   "metadata": {},
   "outputs": [],
   "source": []
  }
 ],
 "metadata": {
  "kernelspec": {
   "display_name": "Python 3 (ipykernel)",
   "language": "python",
   "name": "python3"
  },
  "language_info": {
   "codemirror_mode": {
    "name": "ipython",
    "version": 3
   },
   "file_extension": ".py",
   "mimetype": "text/x-python",
   "name": "python",
   "nbconvert_exporter": "python",
   "pygments_lexer": "ipython3",
   "version": "3.9.7"
  }
 },
 "nbformat": 4,
 "nbformat_minor": 5
}
